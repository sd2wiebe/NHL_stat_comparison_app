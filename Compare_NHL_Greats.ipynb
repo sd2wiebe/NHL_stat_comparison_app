{
 "cells": [
  {
   "cell_type": "markdown",
   "id": "6782d419",
   "metadata": {},
   "source": [
    "# Comparing the Greats"
   ]
  },
  {
   "cell_type": "code",
   "execution_count": 1,
   "id": "309aa991",
   "metadata": {},
   "outputs": [],
   "source": [
    "import pandas as pd\n",
    "import matplotlib.pyplot as plt\n",
    "import matplotlib as plt\n",
    "from matplotlib.figure import Figure\n",
    "from matplotlib.backends.backend_tkagg import (FigureCanvasTkAgg, \n",
    "NavigationToolbar2Tk)\n",
    "\n",
    "# import all classes/methods\n",
    "# from the tkinter module\n",
    "from tkinter import *\n"
   ]
  },
  {
   "cell_type": "markdown",
   "id": "9d98b0bd",
   "metadata": {},
   "source": [
    "## Import player data, create new columns"
   ]
  },
  {
   "cell_type": "code",
   "execution_count": 2,
   "id": "56eb928a",
   "metadata": {},
   "outputs": [],
   "source": [
    "def make_df(last_name):\n",
    "    df = pd.read_csv(f\"{last_name}_stats.csv\")\n",
    "    df_adj = df[\"Age\"][0]-1\n",
    "    df[\"Season #\"] = df[\"Age\"] - df_adj\n",
    "    df[\"Year\"] = df.Season.str[:4]\n",
    "    df[\"G/G\"] = df[\"G\"]/df[\"GP\"]\n",
    "    get_ppg(df)\n",
    "    return df\n",
    "\n",
    "def get_ppg(df):\n",
    "    df[\"P/GP\"] = (df[\"PTS\"]/df[\"GP\"])\n",
    "    return df\n",
    "def get_age(df):\n",
    "    age = df[\"Age\"]\n",
    "    return age\n",
    "def make_dic(df, surname):\n",
    "    dic = {\"name\": surname, \"age\": get_age(df), \"ppg\": get_ppg(df)}\n",
    "    return dic"
   ]
  },
  {
   "cell_type": "markdown",
   "id": "f9879989",
   "metadata": {},
   "source": [
    "# Player Data"
   ]
  },
  {
   "cell_type": "code",
   "execution_count": 3,
   "id": "bfbec833",
   "metadata": {},
   "outputs": [
    {
     "data": {
      "text/plain": [
       "['Crosby', 'McDavid', 'Ovechkin', 'Lemieux', 'Matthews', 'Gretzky']"
      ]
     },
     "execution_count": 3,
     "metadata": {},
     "output_type": "execute_result"
    }
   ],
   "source": [
    "#crosby\n",
    "crosby = make_df(\"crosby\")\n",
    "cros_adj = crosby[\"Age\"][0]-1\n",
    "crosby[\"Season #\"] = crosby[\"Age\"] - cros_adj\n",
    "crosby_ppg = get_ppg(crosby)\n",
    "crosby_age = get_age(crosby)\n",
    "crosby_dict = make_dic(crosby, \"Crosby\")\n",
    "\n",
    "#Ovechkin\n",
    "ovechkin = make_df(\"ovechkin\")\n",
    "ov_adj = ovechkin[\"Age\"][0]-1\n",
    "ovechkin[\"Season #\"] = ovechkin[\"Age\"] - ov_adj\n",
    "ovechkin_ppg = get_ppg(ovechkin)\n",
    "ovechkin_age = get_age(ovechkin)\n",
    "ovechkin_dict = make_dic(ovechkin, \"Ovechkin\")\n",
    "\n",
    "#McDavid\n",
    "mcdavid = make_df(\"mcdavid\")\n",
    "mcd_adj = mcdavid[\"Age\"][0]-1\n",
    "mcdavid[\"Season #\"] = mcdavid[\"Age\"] - mcd_adj\n",
    "mcdavid_ppg = get_ppg(mcdavid)\n",
    "mcdavid_age = get_age(mcdavid)\n",
    "mcdavid_dict = make_dic(mcdavid, \"McDavid\")\n",
    "\n",
    "#lemieux\n",
    "lemieux = make_df(\"lemieux\")\n",
    "lem_adj = lemieux[\"Age\"][0]-1\n",
    "lemieux[\"Season #\"] = lemieux[\"Age\"] - lem_adj\n",
    "lemieux_ppg = get_ppg(lemieux)\n",
    "lemieux_age = get_age(lemieux)\n",
    "lemieux_dict = make_dic(lemieux, \"Lemieux\")\n",
    "\n",
    "#Matthews\n",
    "matthews = make_df(\"matthews\")\n",
    "thews_adj = matthews[\"Age\"][0]-1\n",
    "matthews[\"Season #\"] = matthews[\"Age\"] - thews_adj\n",
    "matthews_ppg = get_ppg(matthews)\n",
    "matthews_age = get_age(matthews)\n",
    "matthews_dict = make_dic(matthews, \"Matthews\")\n",
    "\n",
    "##Wayne\n",
    "gretzky = make_df(\"gretzky\")\n",
    "gretzky_adj = gretzky[\"Age\"][0]-1\n",
    "gretzky[\"Season #\"] = gretzky[\"Age\"] - gretzky_adj\n",
    "gretzky_ppg = get_ppg(gretzky)\n",
    "gretzky_age = get_age(gretzky)\n",
    "gretzky_dict = make_dic(gretzky, \"Gretzky\")\n",
    "\n",
    "## Make player dict, name list\n",
    "players = []\n",
    "player_dict_list = [crosby_dict, mcdavid_dict, ovechkin_dict,lemieux_dict, matthews_dict, gretzky_dict]\n",
    "for dic in player_dict_list:\n",
    "    players.append(dic[\"name\"])\n",
    "players"
   ]
  },
  {
   "cell_type": "code",
   "execution_count": 4,
   "id": "85c69d42",
   "metadata": {
    "scrolled": true
   },
   "outputs": [],
   "source": [
    "## list of all variabkes\n",
    "variables= list(crosby.columns)"
   ]
  },
  {
   "cell_type": "markdown",
   "id": "2226f6ca",
   "metadata": {},
   "source": [
    "Better fit"
   ]
  },
  {
   "cell_type": "code",
   "execution_count": 5,
   "id": "2854c221",
   "metadata": {},
   "outputs": [],
   "source": [
    "# The main tkinter window\n",
    "window = Tk()\n",
    "  \n",
    "# setting the title and \n",
    "window.title('Plotting in Tkinter')\n",
    "  \n",
    "# setting the dimensions of \n",
    "# the main window\n",
    "window.geometry(\"500x300\")\n",
    "plot_button = Button(master = window, \n",
    "                         command = lambda: plot(tkvarxvar.get(),tkvaryvar.get(),tkvarplayersel.get(),tkvarplayersel2.get(),tkvarplayersel3.get()),\n",
    "                         height = 2, \n",
    "                         width = 30,\n",
    "                         text = \"PLOT\")\n",
    "\n",
    "# place the button \n",
    "plot_button.place(relx=.39, rely= .02, relwidth=.59, relheight=.96)\n",
    "\n",
    "## Player 1\n",
    "tkvarplayersel = StringVar(window)\n",
    "tkvarplayersel.set(players[0])\n",
    "popupMenu = OptionMenu(window, tkvarplayersel, *players)\n",
    "Label(window, text=\"Player 1\").place(relx=.03 ,rely=.02 , relwidth=.25 ,relheight=.09 )\n",
    "popupMenu.place(relx=0.03,rely=.11, relwidth=.25 ,relheight=.09 )\n",
    "\n",
    "## Player 2\n",
    "tkvarplayersel2 = StringVar(window)\n",
    "tkvarplayersel2.set(players[1])\n",
    "popupMenu = OptionMenu(window, tkvarplayersel2, *players)\n",
    "Label(window, text=\"Player 2\").place(relx=.03 ,rely=.21 , relwidth=.25 ,relheight=.09 )\n",
    "popupMenu.place(relx=0.03,rely=.30, relwidth=.25 ,relheight=.09 )\n",
    "\n",
    "## Player 3\n",
    "tkvarplayersel3 = StringVar(window)\n",
    "tkvarplayersel3.set(players[2])\n",
    "popupMenu = OptionMenu(window, tkvarplayersel3, *players)\n",
    "Label(window, text=\"Player 3\").place(relx=.03 ,rely=.40 , relwidth=.25 ,relheight=.09 )\n",
    "popupMenu.place(relx=0.03,rely=.49, relwidth=.25 ,relheight=.09 )\n",
    "\n",
    "## X Variables\n",
    "tkvarxvar = StringVar(window)\n",
    "tkvarxvar.set(variables[0])\n",
    "popupMenu = OptionMenu(window, tkvarxvar, *variables)\n",
    "Label(window, text=\"X\").place(relx=.03 ,rely=.59 , relwidth=.25 ,relheight=.09 )\n",
    "popupMenu.place(relx=0.03,rely=.68, relwidth=.25 ,relheight=.09 )\n",
    "\n",
    "## Y Variables\n",
    "tkvaryvar = StringVar(window)\n",
    "tkvaryvar.set(variables[2])\n",
    "popupMenu = OptionMenu(window, tkvaryvar, *variables)\n",
    "Label(window, text=\"Y\").place(relx=.03 ,rely=.78 , relwidth=.25 ,relheight=.09 )\n",
    "popupMenu.place(relx=0.03,rely=.87, relwidth=.25 ,relheight=.09 )\n",
    "\n",
    "##Plot function\n",
    "def plot(x,y,name1, name2, name3):\n",
    "        window = Tk()\n",
    "\n",
    "        # setting the title and \n",
    "        window.title('Plotting in Tkinter')\n",
    "\n",
    "        # setting the dimensions of \n",
    "        # the main window\n",
    "        window.geometry(\"1000x600\")\n",
    "        fig = Figure(figsize = (7, 5),\n",
    "                     dpi = 100)\n",
    "        canvas = FigureCanvasTkAgg(fig,\n",
    "                                           master = window)  \n",
    "        canvas.draw()\n",
    "        player1_df = make_df(name1)\n",
    "        x1 = player1_df[x]\n",
    "        y1 = player1_df[y]\n",
    "        player2_df = make_df(name2)\n",
    "        x2 = player2_df[x]\n",
    "        y2 = player2_df[y]  \n",
    "        player3_df = make_df(name3)\n",
    "        x3 = player3_df[x]\n",
    "        y3 = player3_df[y]\n",
    "        # adding the subplot\n",
    "        plot1 = fig.add_subplot(111)\n",
    "        # plotting the graph\n",
    "        plot1.plot(x1,y1, label= name1)\n",
    "        plot1.plot(x2,y2, label = name2)\n",
    "        plot1.plot(x3,y3, label= name3)\n",
    "        plot1.set_title(f\"{y} vs. {x}\")\n",
    "        plot1.set_xlabel(x)\n",
    "        \n",
    "        \n",
    "        plot1.set_ylabel(y)\n",
    "        plot1.legend()\n",
    "    # creating the Tkinter canvas\n",
    "    # containing the Matplotlib figure\n",
    "        canvas = FigureCanvasTkAgg(fig,\n",
    "                                   master = window)  \n",
    "        canvas.draw()\n",
    "        fig.autofmt_xdate(rotation=45)\n",
    "       \n",
    "\n",
    "        # placing the canvas on the Tkinter window\n",
    "        canvas.get_tk_widget().pack()\n",
    "\n",
    "        # creating the Matplotlib toolbar\n",
    "        toolbar = NavigationToolbar2Tk(canvas,\n",
    "                                       window)\n",
    "        toolbar.update()\n",
    "\n",
    "        # placing the toolbar on the Tkinter window\n",
    "        canvas.get_tk_widget().pack()"
   ]
  },
  {
   "cell_type": "code",
   "execution_count": null,
   "id": "cb699f2c",
   "metadata": {},
   "outputs": [],
   "source": [
    "window.mainloop()"
   ]
  },
  {
   "cell_type": "code",
   "execution_count": null,
   "id": "63f69951",
   "metadata": {},
   "outputs": [],
   "source": []
  },
  {
   "cell_type": "code",
   "execution_count": null,
   "id": "392ad78b",
   "metadata": {},
   "outputs": [],
   "source": []
  },
  {
   "cell_type": "code",
   "execution_count": null,
   "id": "95533c4d",
   "metadata": {},
   "outputs": [],
   "source": []
  }
 ],
 "metadata": {
  "kernelspec": {
   "display_name": "Python 3 (ipykernel)",
   "language": "python",
   "name": "python3"
  },
  "language_info": {
   "codemirror_mode": {
    "name": "ipython",
    "version": 3
   },
   "file_extension": ".py",
   "mimetype": "text/x-python",
   "name": "python",
   "nbconvert_exporter": "python",
   "pygments_lexer": "ipython3",
   "version": "3.10.4"
  }
 },
 "nbformat": 4,
 "nbformat_minor": 5
}
